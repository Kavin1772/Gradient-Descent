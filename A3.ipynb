{
 "cells": [
  {
   "cell_type": "code",
   "execution_count": 7,
   "metadata": {},
   "outputs": [
    {
     "name": "stdout",
     "output_type": "stream",
     "text": [
      "For first dataset: w0 = 0.9896, w1 = 2.0015\n",
      "For second dataset: w0 = 1.2524, w1 = 2.0081\n"
     ]
    }
   ],
   "source": [
    "import numpy as np\n",
    "\n",
    "def gradient_descent(x, y, learning_rate=0.01, iterations=1000):\n",
    "    w0, w1 = 0, 0  # Initialize weights\n",
    "    m = len(x)  # Number of data points\n",
    "\n",
    "    for _ in range(iterations):\n",
    "        y_pred = w0 + w1 * x  # Compute predictions\n",
    "        error = y_pred - y  # Compute error\n",
    "\n",
    "        # Compute gradients\n",
    "        dw0 = (2 / m) * np.sum(error)\n",
    "        dw1 = (2 / m) * np.sum(error * x)\n",
    "\n",
    "        # Update weights\n",
    "        w0 -= learning_rate * dw0\n",
    "        w1 -= learning_rate * dw1\n",
    "\n",
    "    return w0, w1\n",
    "\n",
    "# Given training data\n",
    "x = np.array([1, 2, 3, 4, 5, 6, 7, 8, 9, 10])\n",
    "y1 = np.array([3, 5, 7, 9, 11, 13, 15, 17, 19, 21])\n",
    "y2 = np.array([3, 5, 8, 9, 11, 14, 15, 18, 19, 21])\n",
    "\n",
    "# Compute parameters for both datasets\n",
    "w0_1, w1_1 = gradient_descent(x, y1)\n",
    "w0_2, w1_2 = gradient_descent(x, y2)\n",
    "\n",
    "print(f\"For first dataset: w0 = {w0_1:.4f}, w1 = {w1_1:.4f}\")\n",
    "print(f\"For second dataset: w0 = {w0_2:.4f}, w1 = {w1_2:.4f}\")\n"
   ]
  }
 ],
 "metadata": {
  "kernelspec": {
   "display_name": "base",
   "language": "python",
   "name": "python3"
  },
  "language_info": {
   "codemirror_mode": {
    "name": "ipython",
    "version": 3
   },
   "file_extension": ".py",
   "mimetype": "text/x-python",
   "name": "python",
   "nbconvert_exporter": "python",
   "pygments_lexer": "ipython3",
   "version": "3.12.7"
  }
 },
 "nbformat": 4,
 "nbformat_minor": 2
}
